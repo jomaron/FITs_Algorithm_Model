{
 "cells": [
  {
   "cell_type": "code",
   "execution_count": 3,
   "id": "b58b3ab7",
   "metadata": {},
   "outputs": [],
   "source": [
    "import torch\n",
    "import torch.nn as nn\n",
    "\n",
    "class MMDLoss(nn.Module):\n",
    "    '''\n",
    "    计算源域数据和目标域数据的MMD距离\n",
    "    Params:\n",
    "    source: 源域数据（n * len(x))\n",
    "    target: 目标域数据（m * len(y))\n",
    "    kernel_mul:\n",
    "    kernel_num: 取不同高斯核的数量\n",
    "    fix_sigma: 不同高斯核的sigma值\n",
    "    Return:\n",
    "    loss: MMD loss\n",
    "    '''\n",
    "    def __init__(self, kernel_type='rbf', kernel_mul=2.0, kernel_num=5, fix_sigma=None, **kwargs):\n",
    "        super(MMDLoss, self).__init__()\n",
    "        self.kernel_num = kernel_num\n",
    "        self.kernel_mul = kernel_mul\n",
    "        self.fix_sigma = None\n",
    "        self.kernel_type = kernel_type\n",
    "\n",
    "    def guassian_kernel(self, source, target, kernel_mul, kernel_num, fix_sigma):\n",
    "        n_samples = int(source.size()[0]) + int(target.size()[0])\n",
    "        total = torch.cat([source, target], dim=0)\n",
    "        total0 = total.unsqueeze(0).expand(\n",
    "            int(total.size(0)), int(total.size(0)), int(total.size(1)))\n",
    "        total1 = total.unsqueeze(1).expand(\n",
    "            int(total.size(0)), int(total.size(0)), int(total.size(1)))\n",
    "        L2_distance = ((total0-total1)**2).sum(2)\n",
    "        if fix_sigma:\n",
    "            bandwidth = fix_sigma\n",
    "        else:\n",
    "            bandwidth = torch.sum(L2_distance.data) / (n_samples**2-n_samples)\n",
    "        bandwidth /= kernel_mul ** (kernel_num // 2)\n",
    "        bandwidth_list = [bandwidth * (kernel_mul**i)\n",
    "                          for i in range(kernel_num)]\n",
    "        kernel_val = [torch.exp(-L2_distance / bandwidth_temp)\n",
    "                      for bandwidth_temp in bandwidth_list]\n",
    "        return sum(kernel_val)\n",
    "\n",
    "    def linear_mmd2(self, f_of_X, f_of_Y):\n",
    "        loss = 0.0\n",
    "        delta = f_of_X.float().mean(0) - f_of_Y.float().mean(0)\n",
    "        loss = delta.dot(delta.T)\n",
    "        return loss\n",
    "\n",
    "    def forward(self, source, target):\n",
    "        if self.kernel_type == 'linear':\n",
    "            return self.linear_mmd2(source, target)\n",
    "        elif self.kernel_type == 'rbf':\n",
    "            batch_size = int(source.size()[0])\n",
    "            kernels = self.guassian_kernel(\n",
    "                source, target, kernel_mul=self.kernel_mul, kernel_num=self.kernel_num, fix_sigma=self.fix_sigma)\n",
    "            XX = torch.mean(kernels[:batch_size, :batch_size])\n",
    "            YY = torch.mean(kernels[batch_size:, batch_size:])\n",
    "            XY = torch.mean(kernels[:batch_size, batch_size:])\n",
    "            YX = torch.mean(kernels[batch_size:, :batch_size])\n",
    "            loss = torch.mean(XX + YY - XY - YX)\n",
    "            return loss\n"
   ]
  },
  {
   "cell_type": "code",
   "execution_count": 18,
   "id": "fe3b6705",
   "metadata": {},
   "outputs": [],
   "source": [
    "import numpy as np\n",
    "train1=np.loadtxt(\"D:/train.csv\",str,delimiter=\",\")\n",
    "test=np.loadtxt(\"D:/devel.csv\",str,delimiter=\",\")\n",
    "s=train1[1:,2:]\n",
    "s=s.astype(np.float32)\n",
    "t=test[1:,2:]\n",
    "t=t.astype(np.float32)\n",
    "lis=s.tolist()\n",
    "lit=t.tolist()"
   ]
  },
  {
   "cell_type": "code",
   "execution_count": 20,
   "id": "e10b0175",
   "metadata": {},
   "outputs": [],
   "source": [
    "S=torch.tensor(lis)\n",
    "T=torch.tensor(lit)"
   ]
  },
  {
   "cell_type": "code",
   "execution_count": 21,
   "id": "3c2a120f",
   "metadata": {},
   "outputs": [
    {
     "name": "stdout",
     "output_type": "stream",
     "text": [
      "tensor(0.2034)\n"
     ]
    }
   ],
   "source": [
    "MMD = MMDLoss()\n",
    "a = MMD(source=S, target=T)\n",
    "print(a)"
   ]
  },
  {
   "cell_type": "code",
   "execution_count": null,
   "id": "d61d78b6",
   "metadata": {},
   "outputs": [],
   "source": []
  }
 ],
 "metadata": {
  "kernelspec": {
   "display_name": "Python 3 (ipykernel)",
   "language": "python",
   "name": "python3"
  },
  "language_info": {
   "codemirror_mode": {
    "name": "ipython",
    "version": 3
   },
   "file_extension": ".py",
   "mimetype": "text/x-python",
   "name": "python",
   "nbconvert_exporter": "python",
   "pygments_lexer": "ipython3",
   "version": "3.9.7"
  }
 },
 "nbformat": 4,
 "nbformat_minor": 5
}
